{
 "cells": [
  {
   "cell_type": "markdown",
   "metadata": {},
   "source": [
    "#                   Data Analysis on Apps"
   ]
  },
  {
   "cell_type": "markdown",
   "metadata": {},
   "source": [
    "## *Problem Statement*\n",
    " \n",
    "The company gets revenue on in-app ads. So, Intially to get the revenue, there has to be users to utilize the app. This project goal is to find out what type of apps does users get attracted to? What genre of App do they like?\n",
    "\n",
    "The company concentrates on the in-app ads and not on the app developments. It's interests are on free apps that are convenient to store. \n"
   ]
  },
  {
   "cell_type": "code",
   "execution_count": 1,
   "metadata": {},
   "outputs": [],
   "source": [
    "from csv import reader\n",
    "\n",
    "# Opening the datsets and converting to lists\n",
    "ios_dataset = list(reader(open('AppleStore.csv', encoding = 'utf8')))\n",
    "android_dataset = list(reader(open('googleplaystore.csv', encoding = 'utf8')))\n",
    "\n"
   ]
  },
  {
   "cell_type": "markdown",
   "metadata": {},
   "source": [
    "To explore the contents of data, we will use the **explore** function to print desired number of rows. This helps to view the data and later select the columns or rows needed for further analysis"
   ]
  },
  {
   "cell_type": "code",
   "execution_count": 2,
   "metadata": {},
   "outputs": [
    {
     "name": "stdout",
     "output_type": "stream",
     "text": [
      "Apple apps \n",
      "\n",
      "['id', 'track_name', 'size_bytes', 'currency', 'price', 'rating_count_tot', 'rating_count_ver', 'user_rating', 'user_rating_ver', 'ver', 'cont_rating', 'prime_genre', 'sup_devices.num', 'ipadSc_urls.num', 'lang.num', 'vpp_lic']\n",
      "\n",
      "\n",
      "['284882215', 'Facebook', '389879808', 'USD', '0.0', '2974676', '212', '3.5', '3.5', '95.0', '4+', 'Social Networking', '37', '1', '29', '1']\n",
      "\n",
      "\n",
      "['389801252', 'Instagram', '113954816', 'USD', '0.0', '2161558', '1289', '4.5', '4.0', '10.23', '12+', 'Photo & Video', '37', '0', '29', '1']\n",
      "\n",
      "\n",
      "Number of rows 7198\n",
      "Number of columns 16\n"
     ]
    }
   ],
   "source": [
    "def explore(dataset, start, end, rows_columns = False):\n",
    "    dataset_slice = dataset[start:end]\n",
    "    for row in dataset_slice:\n",
    "        print(row)\n",
    "        print('\\n')\n",
    "        \n",
    "    if rows_columns:\n",
    "        print('Number of rows', len(dataset))\n",
    "        print('Number of columns', len(dataset[0]))\n",
    "        \n",
    "\n",
    "print('Apple apps \\n')\n",
    "print(ios_dataset[0])\n",
    "print('\\n')\n",
    "explore(ios_dataset, 1, 3, True)"
   ]
  },
  {
   "cell_type": "markdown",
   "metadata": {},
   "source": [
    "Total number of iOS apps are 7198. Clear understanding of column names, is given in the dataset [documnetation](https://www.kaggle.com/ramamet4/app-store-apple-data-set-10k-apps/home). The columns needed for our analysis are: \n",
    "\n",
    "- **'track_name'** - Type of App\n",
    "- **'currency'** - Type of Currency\n",
    "- **'price'** - Free or Paid app\n",
    "- **'rating_count_tot'** - User rating total counts\n",
    "- **'rating_count_ver'** - User rating for current version counts\n",
    "- **'user_rating'** - Average user rating for respective app\n",
    "\n",
    "Lets explore Google Apps"
   ]
  },
  {
   "cell_type": "code",
   "execution_count": 3,
   "metadata": {},
   "outputs": [
    {
     "name": "stdout",
     "output_type": "stream",
     "text": [
      "Google Apps \n",
      "\n",
      "['App', 'Category', 'Rating', 'Reviews', 'Size', 'Installs', 'Type', 'Price', 'Content Rating', 'Genres', 'Last Updated', 'Current Ver', 'Android Ver']\n",
      "\n",
      "\n",
      "['Photo Editor & Candy Camera & Grid & ScrapBook', 'ART_AND_DESIGN', '4.1', '159', '19M', '10,000+', 'Free', '0', 'Everyone', 'Art & Design', 'January 7, 2018', '1.0.0', '4.0.3 and up']\n",
      "\n",
      "\n",
      "['Coloring book moana', 'ART_AND_DESIGN', '3.9', '967', '14M', '500,000+', 'Free', '0', 'Everyone', 'Art & Design;Pretend Play', 'January 15, 2018', '2.0.0', '4.0.3 and up']\n",
      "\n",
      "\n",
      "Number of rows 10842\n",
      "Number of columns 13\n"
     ]
    }
   ],
   "source": [
    "print('Google Apps \\n')\n",
    "print(android_dataset[0])\n",
    "print('\\n')\n",
    "explore(android_dataset, 1, 3, True)"
   ]
  },
  {
   "cell_type": "markdown",
   "metadata": {},
   "source": [
    "Total number of android apps are 10,842. The coloumns needed for our analysis are: 'App' , 'Category' , 'Reviews', 'Installs', 'Type', 'price', 'Genres'.  "
   ]
  },
  {
   "cell_type": "markdown",
   "metadata": {},
   "source": [
    "## Deleting Wrong data\n",
    "\n",
    "We need to inspect if the data has any duplicates or wrong data before processing further. For Android apps datasets, the [discussion](https://www.kaggle.com/lava18/google-play-store-apps/discussion/163791) helps to identify the wrong data. One of the user points out that 10473 row in the data set has values shifted to left. So we can drop that particular row."
   ]
  },
  {
   "cell_type": "code",
   "execution_count": 4,
   "metadata": {},
   "outputs": [
    {
     "name": "stdout",
     "output_type": "stream",
     "text": [
      "['Life Made WI-Fi Touchscreen Photo Frame', '1.9', '19', '3.0M', '1,000+', 'Free', '0', 'Everyone', '', 'February 11, 2018', '1.0.19', '4.0 and up']\n",
      "\n",
      "\n",
      "['App', 'Category', 'Rating', 'Reviews', 'Size', 'Installs', 'Type', 'Price', 'Content Rating', 'Genres', 'Last Updated', 'Current Ver', 'Android Ver']\n",
      "\n",
      "\n"
     ]
    }
   ],
   "source": [
    "print(android_dataset[10473])\n",
    "print('\\n')\n",
    "print(android_dataset[0])\n",
    "print ('\\n')\n"
   ]
  },
  {
   "cell_type": "markdown",
   "metadata": {},
   "source": [
    "After comparing the incorrect row with header, we see that Category column is missing. So we'll delete this row!"
   ]
  },
  {
   "cell_type": "code",
   "execution_count": 5,
   "metadata": {},
   "outputs": [
    {
     "name": "stdout",
     "output_type": "stream",
     "text": [
      "10841\n"
     ]
    }
   ],
   "source": [
    "del android_dataset[10473]\n",
    "print(len(android_dataset))"
   ]
  },
  {
   "cell_type": "markdown",
   "metadata": {},
   "source": [
    "## Removing repeated data\n",
    "\n",
    "\n",
    "After removing wrong data, we need to identify duplicate rows. As app with same particular column leads to over-fitting of the data, and we dont want to analyse the data with same category of the column so,\n",
    "\n",
    "- First To Identify the duplicate rows\n",
    "- Second to identify the criteria required to select the desired row and remove the rest"
   ]
  },
  {
   "cell_type": "code",
   "execution_count": 6,
   "metadata": {},
   "outputs": [
    {
     "name": "stdout",
     "output_type": "stream",
     "text": [
      "Total no. of duplicated apps -  1181\n",
      "\n",
      "\n",
      "Examples of duplicate apps: ['Quick PDF Scanner + OCR FREE', 'Box', 'Google My Business', 'ZOOM Cloud Meetings', 'join.me - Simple Meetings', 'Box', 'Zenefits', 'Google Ads', 'Google My Business', 'Slack']\n"
     ]
    }
   ],
   "source": [
    "# Identify the duplicates\n",
    "duplicate_apps = []\n",
    "unique_apps = []\n",
    "for row in android_dataset:\n",
    "    app = row[0]\n",
    "    if app in unique_apps:\n",
    "        duplicate_apps.append(app)\n",
    "    else:\n",
    "        unique_apps.append(app)\n",
    "print('Total no. of duplicated apps - ', len(duplicate_apps))\n",
    "print('\\n')\n",
    "print('Examples of duplicate apps:', duplicate_apps[:10])"
   ]
  },
  {
   "cell_type": "code",
   "execution_count": 7,
   "metadata": {},
   "outputs": [
    {
     "name": "stdout",
     "output_type": "stream",
     "text": [
      "798\n"
     ]
    }
   ],
   "source": [
    "# frequency table of duplicated rows\n",
    "dicti_duplicate = {}\n",
    "\n",
    "for name in duplicate_apps:\n",
    "    if name in dicti_duplicate:\n",
    "        dicti_duplicate[name] += 1\n",
    "    else:\n",
    "        dicti_duplicate[name] = 1\n",
    "        \n",
    "print(len(dicti_duplicate))"
   ]
  },
  {
   "cell_type": "markdown",
   "metadata": {},
   "source": [
    "There are 798 duplicate apps. "
   ]
  },
  {
   "cell_type": "code",
   "execution_count": 8,
   "metadata": {},
   "outputs": [
    {
     "name": "stdout",
     "output_type": "stream",
     "text": [
      "['Instagram', 'SOCIAL', '4.5', '66577313', 'Varies with device', '1,000,000,000+', 'Free', '0', 'Teen', 'Social', 'July 31, 2018', 'Varies with device', 'Varies with device']\n",
      "/n\n",
      "['Instagram', 'SOCIAL', '4.5', '66577446', 'Varies with device', '1,000,000,000+', 'Free', '0', 'Teen', 'Social', 'July 31, 2018', 'Varies with device', 'Varies with device']\n",
      "/n\n",
      "['Instagram', 'SOCIAL', '4.5', '66577313', 'Varies with device', '1,000,000,000+', 'Free', '0', 'Teen', 'Social', 'July 31, 2018', 'Varies with device', 'Varies with device']\n",
      "/n\n",
      "['Instagram', 'SOCIAL', '4.5', '66509917', 'Varies with device', '1,000,000,000+', 'Free', '0', 'Teen', 'Social', 'July 31, 2018', 'Varies with device', 'Varies with device']\n",
      "/n\n"
     ]
    }
   ],
   "source": [
    "for app in android_dataset:\n",
    "    name = app[0]\n",
    "    if name == 'Instagram':\n",
    "        print(app)\n",
    "        print('/n')"
   ]
  },
  {
   "cell_type": "markdown",
   "metadata": {},
   "source": [
    "We can see that there is differencr in number of reviews i.e. 'reviews' column.So we can keep the one with highest reviews and delete the rest from dataset. As more number of reviews leads to latest user reviews.\n",
    "\n",
    "This leads to second step **Identifing the criteria**"
   ]
  },
  {
   "cell_type": "code",
   "execution_count": 9,
   "metadata": {},
   "outputs": [
    {
     "name": "stdout",
     "output_type": "stream",
     "text": [
      "Expected length: 9659\n",
      "Actual length: 9659\n"
     ]
    }
   ],
   "source": [
    "reviews_max = {}\n",
    "for row in android_dataset[1:]:\n",
    "    name = row[0]\n",
    "    n_reviews = float(row[3])\n",
    "    if name in reviews_max and reviews_max[name] < n_reviews:\n",
    "        reviews_max[name] = n_reviews\n",
    "    elif name not in reviews_max:\n",
    "        reviews_max[name] = n_reviews\n",
    "\n",
    "print('Expected length:', len(android_dataset[1:]) - 1181)\n",
    "print('Actual length:', len(reviews_max))"
   ]
  },
  {
   "cell_type": "markdown",
   "metadata": {},
   "source": [
    "Lets use the above created dictionary to remove the duplicates. After assigning the repeated app names with maximum reviews, now we need to create a new list with clean data. We can check if the data has been cleaned by comparing the length of Expected length (**'reviews_max'**) and Clean android dataset (**'android_clean'**)."
   ]
  },
  {
   "cell_type": "code",
   "execution_count": 10,
   "metadata": {},
   "outputs": [
    {
     "name": "stdout",
     "output_type": "stream",
     "text": [
      "9659\n"
     ]
    }
   ],
   "source": [
    "android_clean = [] # To store new cleaned data set\n",
    "already_android =[] # To store app_names\n",
    "for row in android_dataset[1:]:\n",
    "    name = row[0]\n",
    "    n_reviews = float(row[3])\n",
    "    if n_reviews == reviews_max[name] and name not in already_android:\n",
    "        android_clean.append(row)\n",
    "        already_android.append(name)\n",
    "\n",
    "print(len(android_clean))"
   ]
  },
  {
   "cell_type": "markdown",
   "metadata": {},
   "source": [
    "To check if ios dataset has any duplicates in it, let's create a frequency table and compare it's length with actual ios datset."
   ]
  },
  {
   "cell_type": "code",
   "execution_count": 11,
   "metadata": {},
   "outputs": [
    {
     "name": "stdout",
     "output_type": "stream",
     "text": [
      "The length of actual ios dataset 7197\n",
      "The length of frequency table of ios apps 7197\n"
     ]
    }
   ],
   "source": [
    "already_ios = {}\n",
    "for row in ios_dataset[1:]:\n",
    "    identity = row[0]\n",
    "    if identity in already_ios:\n",
    "        already_ios[identity] += 1\n",
    "    else: \n",
    "        already_ios[identity] = 1\n",
    "\n",
    "print('The length of actual ios dataset', len(ios_dataset[1:]))\n",
    "print('The length of frequency table of ios apps', len(already_ios))\n",
    "        "
   ]
  },
  {
   "cell_type": "markdown",
   "metadata": {},
   "source": [
    "From above result, we can conclude that there are no duplicates as each app has its own identity (**'id'**) number. So to check the duplicates we can check it with identity number instead of app name (**'track name'**)"
   ]
  },
  {
   "cell_type": "markdown",
   "metadata": {},
   "source": [
    "## Removing Non-English Apps\n",
    "\n",
    "To check if the app is english or non-english app, we need to check the name of app. One way is to remove each app wath a name containing a symbol that is not commonly used in english text - English text usually includes letters from the English alphabet, numbers composed of digits from 0 to 9, punctuation marks (., !, ?, ;), and other symbols (+, *, /).\n",
    "\n",
    "As each character in the text, corresponds to a number in ASCII system. The numbers corresponding to characters in an english text are in range 0 to 127. Any character with a number greater than 127 is not a english text.\n",
    "\n",
    "- First identify whether it is english or not\n",
    "- Second remove the rows corresponding to Non-English Apps\n"
   ]
  },
  {
   "cell_type": "code",
   "execution_count": 12,
   "metadata": {},
   "outputs": [
    {
     "name": "stdout",
     "output_type": "stream",
     "text": [
      "True\n",
      "False\n",
      "True\n",
      "True\n"
     ]
    }
   ],
   "source": [
    "def eng_non_eng(word): # To check if it is an engliah app or not.\n",
    "    j = 0\n",
    "    for i in word:\n",
    "        if ord(i) > 127:\n",
    "            j += 1              \n",
    "            if j > 3:        # To check if there are more than 3 characters that\n",
    "                             # don't belong to english language\n",
    "                return False\n",
    "    return True\n",
    "print(eng_non_eng('Instagram'))\n",
    "print(eng_non_eng('爱奇艺PPS -《欢乐颂2》电视剧热播'))\n",
    "print(eng_non_eng('Docs To Go™ Free Office Suite'))\n",
    "print(eng_non_eng('Instachat 😜'))"
   ]
  },
  {
   "cell_type": "markdown",
   "metadata": {},
   "source": [
    "Lets check in android datset, and seperate english_apps and non_english apps from cleaned dataset"
   ]
  },
  {
   "cell_type": "code",
   "execution_count": 13,
   "metadata": {},
   "outputs": [
    {
     "name": "stdout",
     "output_type": "stream",
     "text": [
      "The total number of english android apps 9614\n",
      "The total number of non-english android apps 45\n"
     ]
    }
   ],
   "source": [
    "english_android_dataset = []\n",
    "for row in android_clean:\n",
    "    name = row[0]\n",
    "    if eng_non_eng(name):\n",
    "        english_android_dataset.append(row)\n",
    "        \n",
    "print('The total number of english android apps',len(english_android_dataset))\n",
    "print('The total number of non-english android apps',len(android_clean)-len(english_android_dataset))\n",
    "        "
   ]
  },
  {
   "cell_type": "markdown",
   "metadata": {},
   "source": [
    "Lets check in apple apps dataset and seperate them"
   ]
  },
  {
   "cell_type": "code",
   "execution_count": 14,
   "metadata": {},
   "outputs": [
    {
     "name": "stdout",
     "output_type": "stream",
     "text": [
      "The total number of english IOs apps 6183\n",
      "The total number of non-english IOs apps 1014\n"
     ]
    }
   ],
   "source": [
    "english_apple_dataset = []\n",
    "for row in ios_dataset[1:]:\n",
    "    name = row[1]\n",
    "    if eng_non_eng(name):\n",
    "        english_apple_dataset.append(row)\n",
    "            \n",
    "print('The total number of english IOs apps', len(english_apple_dataset))\n",
    "print('The total number of non-english IOs apps', len(ios_dataset[1:])-len(english_apple_dataset))"
   ]
  },
  {
   "cell_type": "markdown",
   "metadata": {},
   "source": [
    "## Free Apps\n",
    "\n",
    "As mentioned, the company is only interested in in-app adds and only build apps that are free to download and install. As the datasets contain both free and non-free apps we need to seperate the apps\n",
    "\n",
    "- First identify the free apps\n",
    "- Second isolate the free apps\n",
    "\n",
    "Lets do in android dataset"
   ]
  },
  {
   "cell_type": "code",
   "execution_count": 15,
   "metadata": {},
   "outputs": [
    {
     "name": "stdout",
     "output_type": "stream",
     "text": [
      "The total number of free android apps 8863\n",
      "The total number of non-free apps 751\n"
     ]
    }
   ],
   "source": [
    "free_android_apps = []\n",
    "for row in english_android_dataset:\n",
    "    type_app = row[6]\n",
    "    if type_app == 'Free':\n",
    "        free_android_apps.append(row)\n",
    "\n",
    "print('The total number of free android apps', len(free_android_apps))\n",
    "print('The total number of non-free apps', len(english_android_dataset)-len(free_android_apps))\n",
    "    \n",
    "    "
   ]
  },
  {
   "cell_type": "markdown",
   "metadata": {},
   "source": [
    "Now to identify and isolate free IOs apps"
   ]
  },
  {
   "cell_type": "code",
   "execution_count": 16,
   "metadata": {},
   "outputs": [
    {
     "name": "stdout",
     "output_type": "stream",
     "text": [
      "The total number of free iOs apps 3222\n",
      "The total number non-free iOs apps 2961\n"
     ]
    }
   ],
   "source": [
    "free_apple_apps = []\n",
    "for row in english_apple_dataset:\n",
    "    price = float(row[4])\n",
    "    if price == 0.0:\n",
    "        free_apple_apps.append(row)\n",
    "        \n",
    "print('The total number of free iOs apps', len(free_apple_apps))\n",
    "print('The total number non-free iOs apps', len(english_apple_dataset)-len(free_apple_apps))"
   ]
  },
  {
   "cell_type": "markdown",
   "metadata": {},
   "source": [
    "## Common apps by Genre\n",
    "\n",
    "Till now we have cleaned the datasets. As the main aim is to determine the kind of apps that most of the users are attracted/Interested. \n",
    "\n",
    "The validation strategy of the company is compridsed of 3 steps:\n",
    "\n",
    "- Build a minimal Android version of the app and add it to Playstore.\n",
    "- If the app has a good response from users, we develop it further\n",
    "- If the app is profitable after 6 months, they build an iOS version of the app and add it to the App store\n",
    "\n",
    "So, a frequency table should be created to identfy the genre that most of the users are attracted to."
   ]
  },
  {
   "cell_type": "code",
   "execution_count": 17,
   "metadata": {},
   "outputs": [
    {
     "name": "stdout",
     "output_type": "stream",
     "text": [
      "The most common genre in android apps is Tools\n",
      "The total number of users using common genre app are 749\n"
     ]
    }
   ],
   "source": [
    "genre_android_apps = {}                # Frequency-Genre data for  android apps\n",
    "for row in free_android_apps:\n",
    "    genre = row[9]\n",
    "    if genre in genre_android_apps:\n",
    "        genre_android_apps[genre] += 1\n",
    "    else:\n",
    "        genre_android_apps[genre] = 1\n",
    "maximum = 0\n",
    "name = '' \n",
    "for i in genre_android_apps:            # To find most common genre in android apps\n",
    "    if genre_android_apps[i] > maximum:\n",
    "        maximum = genre_android_apps[i]\n",
    "        name = i\n",
    "print('The most common genre in android apps is', name)\n",
    "print('The total number of users using common genre app are',maximum)"
   ]
  },
  {
   "cell_type": "code",
   "execution_count": 18,
   "metadata": {},
   "outputs": [
    {
     "name": "stdout",
     "output_type": "stream",
     "text": [
      "The most common genre in iOS apps is Games\n",
      "The total number of users using common genre app are 1874\n"
     ]
    }
   ],
   "source": [
    "genre_apple_apps = {}\n",
    "for row in free_apple_apps:\n",
    "    genre = row[11]\n",
    "    if genre in genre_apple_apps:\n",
    "        genre_apple_apps[genre] += 1    \n",
    "    else:\n",
    "        genre_apple_apps[genre] = 1\n",
    "maximum = 0\n",
    "name = ''\n",
    "for i in genre_apple_apps:\n",
    "    if genre_apple_apps[i] > maximum:\n",
    "        maximum = genre_apple_apps[i]\n",
    "        name = i\n",
    "print('The most common genre in iOS apps is', name)\n",
    "print('The total number of users using common genre app are', maximum)"
   ]
  },
  {
   "cell_type": "markdown",
   "metadata": {},
   "source": [
    "Getting the frequency only by number doesnt give much observation points. Using percentage- frequency tables helps to understand the data better and then arranging them in descending order leads us to analyse the most uused genre in both the markets.\n",
    "\n",
    "- One function to generate frequency tables to show percentages\n",
    "- Another function to display the data in descending order according to the percentages"
   ]
  },
  {
   "cell_type": "code",
   "execution_count": 19,
   "metadata": {},
   "outputs": [],
   "source": [
    "def freq_table(dataset, index):\n",
    "    frequency_table = {}\n",
    "    total = 0\n",
    "    for row in dataset:\n",
    "        total += 1\n",
    "        genre = row[index]\n",
    "        if genre in frequency_table:\n",
    "            frequency_table[genre] += 1\n",
    "        else:\n",
    "            frequency_table[genre] = 1\n",
    "            \n",
    "    percentages = {}\n",
    "    for genre in frequency_table:\n",
    "        percentage = (frequency_table[genre]/total) * 100\n",
    "        percentages[genre] = percentage\n",
    "        \n",
    "    return percentages\n",
    "\n",
    "def display_table(dataset, index):\n",
    "    table = freq_table(dataset, index)\n",
    "    table_display = []\n",
    "    for key in table:\n",
    "        key_val_as_tuple = (table[key], key)\n",
    "        table_display.append(key_val_as_tuple)\n",
    "        \n",
    "    table_sorted = sorted(table_display, reverse = True)\n",
    "    for entry in table_sorted:\n",
    "        print(entry[1],':', entry[0])\n",
    "    "
   ]
  },
  {
   "cell_type": "code",
   "execution_count": 20,
   "metadata": {},
   "outputs": [
    {
     "name": "stdout",
     "output_type": "stream",
     "text": [
      "Games : 58.16263190564867\n",
      "Entertainment : 7.883302296710118\n",
      "Photo & Video : 4.9658597144630665\n",
      "Education : 3.662321539416512\n",
      "Social Networking : 3.2898820608317814\n",
      "Shopping : 2.60707635009311\n",
      "Utilities : 2.5139664804469275\n",
      "Sports : 2.1415270018621975\n",
      "Music : 2.0484171322160147\n",
      "Health & Fitness : 2.0173805090006205\n",
      "Productivity : 1.7380509000620732\n",
      "Lifestyle : 1.5828677839851024\n",
      "News : 1.3345747982619491\n",
      "Travel : 1.2414649286157666\n",
      "Finance : 1.1173184357541899\n",
      "Weather : 0.8690254500310366\n",
      "Food & Drink : 0.8069522036002483\n",
      "Reference : 0.5586592178770949\n",
      "Business : 0.5276225946617008\n",
      "Book : 0.4345127250155183\n",
      "Navigation : 0.186219739292365\n",
      "Medical : 0.186219739292365\n",
      "Catalogs : 0.12414649286157665\n"
     ]
    }
   ],
   "source": [
    "display_table(free_apple_apps, -5) # to display the percentage-table of iOS  "
   ]
  },
  {
   "cell_type": "markdown",
   "metadata": {},
   "source": [
    "As seen above from apple market, Games are the most common app that have 58% popularity and has you go down, we can see that fun apps are having good popularity (Games, Entertainment, Photo&Video, music and sports) where as other apps have lesser popularity irrespective of their productivity."
   ]
  },
  {
   "cell_type": "code",
   "execution_count": 21,
   "metadata": {},
   "outputs": [
    {
     "name": "stdout",
     "output_type": "stream",
     "text": [
      "Tools : 8.450863138892023\n",
      "Entertainment : 6.070179397495204\n",
      "Education : 5.348076272142616\n",
      "Business : 4.592124562789123\n",
      "Productivity : 3.8925871601038025\n",
      "Lifestyle : 3.8925871601038025\n",
      "Finance : 3.7007785174320205\n",
      "Medical : 3.5315355974275078\n",
      "Sports : 3.463838429425702\n",
      "Personalization : 3.317161232088458\n",
      "Communication : 3.2381812027530184\n",
      "Action : 3.102786866749408\n",
      "Health & Fitness : 3.0802211440821394\n",
      "Photography : 2.944826808078529\n",
      "News & Magazines : 2.798149610741284\n",
      "Social : 2.6627552747376737\n",
      "Travel & Local : 2.324269434728647\n",
      "Shopping : 2.245289405393208\n",
      "Books & Reference : 2.1437436533904997\n",
      "Simulation : 2.042197901387792\n",
      "Dating : 1.8616721200496444\n",
      "Arcade : 1.8503892587160102\n",
      "Video Players & Editors : 1.771409229380571\n",
      "Casual : 1.7601263680469368\n",
      "Maps & Navigation : 1.399074805370642\n",
      "Food & Drink : 1.241114746699763\n",
      "Puzzle : 1.128286133363421\n",
      "Racing : 0.9928917973598104\n",
      "Role Playing : 0.9364774906916393\n",
      "Libraries & Demo : 0.9364774906916393\n",
      "Auto & Vehicles : 0.9251946293580051\n",
      "Strategy : 0.9026289066907368\n",
      "House & Home : 0.8236488773552973\n",
      "Weather : 0.8010831546880289\n",
      "Events : 0.7108202640189552\n",
      "Adventure : 0.6769716800180525\n",
      "Comics : 0.6092745120162473\n",
      "Beauty : 0.5979916506826132\n",
      "Art & Design : 0.5979916506826132\n",
      "Parenting : 0.4964458986799052\n",
      "Card : 0.4513144533453684\n",
      "Casino : 0.42874873067809993\n",
      "Trivia : 0.4174658693444658\n",
      "Educational;Education : 0.3949001466771973\n",
      "Board : 0.38361728534356315\n",
      "Educational : 0.37233442400992894\n",
      "Education;Education : 0.33848584000902626\n",
      "Word : 0.25950581067358686\n",
      "Casual;Pretend Play : 0.2369400880063184\n",
      "Music : 0.20309150400541578\n",
      "Racing;Action & Adventure : 0.16924292000451313\n",
      "Puzzle;Brain Games : 0.16924292000451313\n",
      "Entertainment;Music & Video : 0.16924292000451313\n",
      "Casual;Brain Games : 0.1353943360036105\n",
      "Casual;Action & Adventure : 0.1353943360036105\n",
      "Arcade;Action & Adventure : 0.1241114746699763\n",
      "Action;Action & Adventure : 0.10154575200270789\n",
      "Educational;Pretend Play : 0.09026289066907367\n",
      "Simulation;Action & Adventure : 0.07898002933543948\n",
      "Parenting;Education : 0.07898002933543948\n",
      "Entertainment;Brain Games : 0.07898002933543948\n",
      "Board;Brain Games : 0.07898002933543948\n",
      "Parenting;Music & Video : 0.06769716800180525\n",
      "Educational;Brain Games : 0.06769716800180525\n",
      "Casual;Creativity : 0.06769716800180525\n",
      "Art & Design;Creativity : 0.06769716800180525\n",
      "Education;Pretend Play : 0.05641430666817105\n",
      "Role Playing;Pretend Play : 0.045131445334536835\n",
      "Education;Creativity : 0.045131445334536835\n",
      "Role Playing;Action & Adventure : 0.033848584000902626\n",
      "Puzzle;Action & Adventure : 0.033848584000902626\n",
      "Entertainment;Creativity : 0.033848584000902626\n",
      "Entertainment;Action & Adventure : 0.033848584000902626\n",
      "Educational;Creativity : 0.033848584000902626\n",
      "Educational;Action & Adventure : 0.033848584000902626\n",
      "Education;Music & Video : 0.033848584000902626\n",
      "Education;Brain Games : 0.033848584000902626\n",
      "Education;Action & Adventure : 0.033848584000902626\n",
      "Adventure;Action & Adventure : 0.033848584000902626\n",
      "Video Players & Editors;Music & Video : 0.022565722667268417\n",
      "Sports;Action & Adventure : 0.022565722667268417\n",
      "Simulation;Pretend Play : 0.022565722667268417\n",
      "Puzzle;Creativity : 0.022565722667268417\n",
      "Music;Music & Video : 0.022565722667268417\n",
      "Entertainment;Pretend Play : 0.022565722667268417\n",
      "Casual;Education : 0.022565722667268417\n",
      "Board;Action & Adventure : 0.022565722667268417\n",
      "Video Players & Editors;Creativity : 0.011282861333634209\n",
      "Trivia;Education : 0.011282861333634209\n",
      "Travel & Local;Action & Adventure : 0.011282861333634209\n",
      "Tools;Education : 0.011282861333634209\n",
      "Strategy;Education : 0.011282861333634209\n",
      "Strategy;Creativity : 0.011282861333634209\n",
      "Strategy;Action & Adventure : 0.011282861333634209\n",
      "Simulation;Education : 0.011282861333634209\n",
      "Role Playing;Brain Games : 0.011282861333634209\n",
      "Racing;Pretend Play : 0.011282861333634209\n",
      "Puzzle;Education : 0.011282861333634209\n",
      "Parenting;Brain Games : 0.011282861333634209\n",
      "Music & Audio;Music & Video : 0.011282861333634209\n",
      "Lifestyle;Pretend Play : 0.011282861333634209\n",
      "Lifestyle;Education : 0.011282861333634209\n",
      "Health & Fitness;Education : 0.011282861333634209\n",
      "Health & Fitness;Action & Adventure : 0.011282861333634209\n",
      "Entertainment;Education : 0.011282861333634209\n",
      "Communication;Creativity : 0.011282861333634209\n",
      "Comics;Creativity : 0.011282861333634209\n",
      "Casual;Music & Video : 0.011282861333634209\n",
      "Card;Action & Adventure : 0.011282861333634209\n",
      "Books & Reference;Education : 0.011282861333634209\n",
      "Art & Design;Pretend Play : 0.011282861333634209\n",
      "Art & Design;Action & Adventure : 0.011282861333634209\n",
      "Arcade;Pretend Play : 0.011282861333634209\n",
      "Adventure;Education : 0.011282861333634209\n"
     ]
    }
   ],
   "source": [
    "display_table(free_android_apps, 9) # percentage-table for android apps for genres"
   ]
  },
  {
   "cell_type": "markdown",
   "metadata": {},
   "source": [
    "In Google market, Tools genre is most common but it's only 8% of all apps. If you look at [tools](https://play.google.com/store/apps/collection/cluster?clp=ogoRCAESBVRPT0xTKgIIB1ICCAE%3D:S:ANO1ljJ5-OA&gsr=ChSiChEIARIFVE9PTFMqAggHUgIIAQ%3D%3D:S:ANO1ljJNkiQ) we can see that all are necessaty app for different devices and products or apps. We can see that most of the productivity apps (Education, Business, productivity, life style, finane, medical, personilisation, communication) are more in percentage when compared to fun&Entertainment apps."
   ]
  },
  {
   "cell_type": "code",
   "execution_count": 22,
   "metadata": {},
   "outputs": [
    {
     "name": "stdout",
     "output_type": "stream",
     "text": [
      "FAMILY : 18.898792733837304\n",
      "GAME : 9.725826469592688\n",
      "TOOLS : 8.462146000225657\n",
      "BUSINESS : 4.592124562789123\n",
      "LIFESTYLE : 3.9038700214374367\n",
      "PRODUCTIVITY : 3.8925871601038025\n",
      "FINANCE : 3.7007785174320205\n",
      "MEDICAL : 3.5315355974275078\n",
      "SPORTS : 3.396141261423897\n",
      "PERSONALIZATION : 3.317161232088458\n",
      "COMMUNICATION : 3.2381812027530184\n",
      "HEALTH_AND_FITNESS : 3.0802211440821394\n",
      "PHOTOGRAPHY : 2.944826808078529\n",
      "NEWS_AND_MAGAZINES : 2.798149610741284\n",
      "SOCIAL : 2.6627552747376737\n",
      "TRAVEL_AND_LOCAL : 2.335552296062281\n",
      "SHOPPING : 2.245289405393208\n",
      "BOOKS_AND_REFERENCE : 2.1437436533904997\n",
      "DATING : 1.8616721200496444\n",
      "VIDEO_PLAYERS : 1.7939749520478394\n",
      "MAPS_AND_NAVIGATION : 1.399074805370642\n",
      "FOOD_AND_DRINK : 1.241114746699763\n",
      "EDUCATION : 1.1621347173643235\n",
      "ENTERTAINMENT : 0.9590432133589079\n",
      "LIBRARIES_AND_DEMO : 0.9364774906916393\n",
      "AUTO_AND_VEHICLES : 0.9251946293580051\n",
      "HOUSE_AND_HOME : 0.8236488773552973\n",
      "WEATHER : 0.8010831546880289\n",
      "EVENTS : 0.7108202640189552\n",
      "PARENTING : 0.6544059573507841\n",
      "ART_AND_DESIGN : 0.6431230960171499\n",
      "COMICS : 0.6205573733498815\n",
      "BEAUTY : 0.5979916506826132\n"
     ]
    }
   ],
   "source": [
    "display_table(free_android_apps, 1) # Category of android apps"
   ]
  },
  {
   "cell_type": "markdown",
   "metadata": {},
   "source": [
    "Both the category and genres columns don't have much difference. The genres column has more subsections when compared to category column. To get the bigger picture, we will work on Category column"
   ]
  },
  {
   "cell_type": "markdown",
   "metadata": {},
   "source": [
    "Let's find out the kind of the apps most users use."
   ]
  },
  {
   "cell_type": "markdown",
   "metadata": {},
   "source": [
    "## Most popular apps\n",
    "\n",
    "One way to find out most popular app is to calculate the average number of installs for each genre. To do this,\n",
    "\n",
    "- Isolate the apps of each genre\n",
    "- Sum up the user ratings of each genre\n",
    "- Divide the sum by number of apps belonging to that genre\n",
    "\n",
    "In android dataset, we already have column 'Installs' to get this information. Let's find it in iOS store as there is no information. Following the above stated steps to get average number of installs for each genre"
   ]
  },
  {
   "cell_type": "code",
   "execution_count": 23,
   "metadata": {},
   "outputs": [
    {
     "name": "stdout",
     "output_type": "stream",
     "text": [
      "Social Networking : 71548.34905660378\n",
      "Photo & Video : 28441.54375\n",
      "Games : 22788.6696905016\n",
      "Music : 57326.530303030304\n",
      "Reference : 74942.11111111111\n",
      "Health & Fitness : 23298.015384615384\n",
      "Weather : 52279.892857142855\n",
      "Utilities : 18684.456790123455\n",
      "Travel : 28243.8\n",
      "Shopping : 26919.690476190477\n",
      "News : 21248.023255813954\n",
      "Navigation : 86090.33333333333\n",
      "Lifestyle : 16485.764705882353\n",
      "Entertainment : 14029.830708661417\n",
      "Food & Drink : 33333.92307692308\n",
      "Sports : 23008.898550724636\n",
      "Book : 39758.5\n",
      "Finance : 31467.944444444445\n",
      "Education : 7003.983050847458\n",
      "Productivity : 21028.410714285714\n",
      "Business : 7491.117647058823\n",
      "Catalogs : 4004.0\n",
      "Medical : 612.0\n"
     ]
    }
   ],
   "source": [
    "frequency_table = {}\n",
    "for row in free_apple_apps:\n",
    "    genre = row[-5]\n",
    "    if genre in frequency_table:\n",
    "        frequency_table[genre] += 1\n",
    "    else:\n",
    "        frequency_table[genre] = 1\n",
    "\n",
    "for key in frequency_table:\n",
    "    total = 0\n",
    "    len_genre = 0\n",
    "    for row in free_apple_apps:\n",
    "        genre_app = row[-5]\n",
    "        if genre_app == key:\n",
    "            rating = float(row[5])\n",
    "            total = total + rating\n",
    "            len_genre += 1\n",
    "    average = total/len_genre\n",
    "    print(key,':',average)\n"
   ]
  },
  {
   "cell_type": "markdown",
   "metadata": {},
   "source": [
    "From the result above, its shown that navigation genre apps have high average ratings. Let's see the apps with navgation genre and analyse the apps that have high user rating"
   ]
  },
  {
   "cell_type": "code",
   "execution_count": 24,
   "metadata": {},
   "outputs": [
    {
     "name": "stdout",
     "output_type": "stream",
     "text": [
      "Waze - GPS Navigation, Maps & Real-time Traffic : 345046\n",
      "Google Maps - Navigation & Transit : 154911\n",
      "Geocaching® : 12811\n",
      "CoPilot GPS – Car Navigation & Offline Maps : 3582\n",
      "ImmobilienScout24: Real Estate Search in Germany : 187\n",
      "Railway Route Search : 5\n"
     ]
    }
   ],
   "source": [
    "for row in free_apple_apps:\n",
    "    if row[-5] == 'Navigation':\n",
    "        print(row[1],':',row[5])"
   ]
  },
  {
   "cell_type": "markdown",
   "metadata": {},
   "source": [
    "The above result signifies that most if the reviews are from apps Waze and Google Maps."
   ]
  },
  {
   "cell_type": "markdown",
   "metadata": {},
   "source": [
    "As shown above, same applies for other popular genres such as Games, Music, Social Networking. Since these genres already have popular apps such as facebook, instagram, spotify, etc. There is no space for development, but if we look into health and fitness or weather.\n",
    "\n",
    "Let's see the apps in Weather genre"
   ]
  },
  {
   "cell_type": "code",
   "execution_count": 25,
   "metadata": {},
   "outputs": [
    {
     "name": "stdout",
     "output_type": "stream",
     "text": [
      "The Weather Channel: Forecast, Radar & Alerts : 495626\n",
      "The Weather Channel App for iPad – best local forecast, radar map, and storm tracking : 208648\n",
      "WeatherBug - Local Weather, Radar, Maps, Alerts : 188583\n",
      "MyRadar NOAA Weather Radar Forecast : 150158\n",
      "AccuWeather - Weather for Life : 144214\n",
      "Yahoo Weather : 112603\n",
      "Weather Underground: Custom Forecast & Local Radar : 49192\n",
      "NOAA Weather Radar - Weather Forecast & HD Radar : 45696\n",
      "Weather Live Free - Weather Forecast & Alerts : 35702\n",
      "Storm Radar : 22792\n",
      "QuakeFeed Earthquake Map, Alerts, and News : 6081\n",
      "Moji Weather - Free Weather Forecast : 2333\n",
      "Hurricane by American Red Cross : 1158\n",
      "Forecast Bar : 375\n",
      "Hurricane Tracker WESH 2 Orlando, Central Florida : 203\n",
      "FEMA : 128\n",
      "iWeather - World weather forecast : 80\n",
      "Weather - Radar - Storm with Morecast App : 78\n",
      "Yurekuru Call : 53\n",
      "Weather & Radar : 37\n",
      "WRAL Weather Alert : 25\n",
      "Météo-France : 24\n",
      "JaxReady : 22\n",
      "Freddy the Frogcaster's Weather Station : 14\n",
      "Almanac Long-Range Weather Forecast : 12\n",
      "TodayAir : 0\n",
      "wetter.com : 0\n",
      "WarnWetter : 0\n"
     ]
    }
   ],
   "source": [
    "for row in free_apple_apps:\n",
    "    if row[-5] == 'Weather':\n",
    "        print(row[1],':',row[5])"
   ]
  },
  {
   "cell_type": "markdown",
   "metadata": {},
   "source": [
    "This genre can have things to develop like showing weather for a beach dat, sunny day and suggesting the activities that can be done in that particular weather."
   ]
  },
  {
   "cell_type": "markdown",
   "metadata": {},
   "source": [
    "# Popular apps on Google play store\n",
    "\n",
    "In android_dataset, we already have a column 'installs' which mentions the number of installs. Let's display the data  "
   ]
  },
  {
   "cell_type": "code",
   "execution_count": 28,
   "metadata": {},
   "outputs": [
    {
     "name": "stdout",
     "output_type": "stream",
     "text": [
      "1,000,000+ : 15.728308699086089\n",
      "100,000+ : 11.55365000564143\n",
      "10,000,000+ : 10.549475346947986\n",
      "10,000+ : 10.199706645605326\n",
      "1,000+ : 8.394448832223853\n",
      "100+ : 6.916393997517771\n",
      "5,000,000+ : 6.826131106848697\n",
      "500,000+ : 5.562450637481666\n",
      "50,000+ : 4.772650344127271\n",
      "5,000+ : 4.513144533453684\n",
      "10+ : 3.542818458761142\n",
      "500+ : 3.2494640640866526\n",
      "50,000,000+ : 2.3017037120613786\n",
      "100,000,000+ : 2.1324607920568655\n",
      "50+ : 1.9180864267178157\n",
      "5+ : 0.7898002933543946\n",
      "1+ : 0.5077287600135394\n",
      "500,000,000+ : 0.270788672007221\n",
      "1,000,000,000+ : 0.2256572266726842\n",
      "0+ : 0.045131445334536835\n"
     ]
    }
   ],
   "source": [
    "display_table(free_android_apps, 5)"
   ]
  },
  {
   "cell_type": "markdown",
   "metadata": {},
   "source": [
    "As seen in the result, it only gives the nearest integer. So, 100,000+ can be 500,000 or 765,456. As only desired data is the app which is popular. From above we can see that 15% of android apps have install count oof 1,000,000+ and so on. "
   ]
  },
  {
   "cell_type": "markdown",
   "metadata": {},
   "source": [
    "To see whic category of app has is most popular. we need to convert string to float by replacing  **','** and **'+'**"
   ]
  },
  {
   "cell_type": "code",
   "execution_count": 30,
   "metadata": {},
   "outputs": [
    {
     "name": "stdout",
     "output_type": "stream",
     "text": [
      "ART_AND_DESIGN : 1986335.0877192982\n",
      "AUTO_AND_VEHICLES : 647317.8170731707\n",
      "BEAUTY : 513151.88679245283\n",
      "BOOKS_AND_REFERENCE : 8767811.894736841\n",
      "BUSINESS : 1712290.1474201474\n",
      "COMICS : 817657.2727272727\n",
      "COMMUNICATION : 38456119.167247385\n",
      "DATING : 854028.8303030303\n",
      "EDUCATION : 1833495.145631068\n",
      "ENTERTAINMENT : 11640705.88235294\n",
      "EVENTS : 253542.22222222222\n",
      "FINANCE : 1387692.475609756\n",
      "FOOD_AND_DRINK : 1924897.7363636363\n",
      "HEALTH_AND_FITNESS : 4188821.9853479853\n",
      "HOUSE_AND_HOME : 1331540.5616438356\n",
      "LIBRARIES_AND_DEMO : 638503.734939759\n",
      "LIFESTYLE : 1437816.2687861272\n",
      "GAME : 15588015.603248259\n",
      "FAMILY : 3697848.1731343283\n",
      "MEDICAL : 120550.61980830671\n",
      "SOCIAL : 23253652.127118643\n",
      "SHOPPING : 7036877.311557789\n",
      "PHOTOGRAPHY : 17840110.40229885\n",
      "SPORTS : 3638640.1428571427\n",
      "TRAVEL_AND_LOCAL : 13984077.710144928\n",
      "TOOLS : 10801391.298666667\n",
      "PERSONALIZATION : 5201482.6122448975\n",
      "PRODUCTIVITY : 16787331.344927534\n",
      "PARENTING : 542603.6206896552\n",
      "WEATHER : 5074486.197183099\n",
      "VIDEO_PLAYERS : 24727872.452830188\n",
      "NEWS_AND_MAGAZINES : 9549178.467741935\n",
      "MAPS_AND_NAVIGATION : 4056941.7741935486\n"
     ]
    }
   ],
   "source": [
    "category_tab = freq_table(free_android_apps,1)\n",
    "\n",
    "for category in category_tab:\n",
    "    total = 0\n",
    "    len_category = 0\n",
    "    for app in free_android_apps:\n",
    "        category_v = app[1]\n",
    "        if category_v == category:\n",
    "            n_installs = app[5]\n",
    "            n_installs = n_installs.replace(',','')\n",
    "            n_installs = n_installs.replace('+','')\n",
    "            total += float(n_installs)\n",
    "            len_category += 1\n",
    "    avg_n_installs = total / len_category\n",
    "    print(category, ':', avg_n_installs)\n",
    "        \n",
    "        \n",
    "        "
   ]
  },
  {
   "cell_type": "markdown",
   "metadata": {},
   "source": [
    "The Communication apps have the most installed apps approximately 38,000,000. Mostly it can be guessed the list would include what's app, facebook , instagram and various other social network apps. Most of these aforementioned apps would have occupied the most number of installs.\n",
    "\n",
    "Let,s visual each app in this category with high number of installs"
   ]
  },
  {
   "cell_type": "code",
   "execution_count": 32,
   "metadata": {},
   "outputs": [
    {
     "name": "stdout",
     "output_type": "stream",
     "text": [
      "WhatsApp Messenger : 1,000,000,000+\n",
      "imo beta free calls and text : 100,000,000+\n",
      "Android Messages : 100,000,000+\n",
      "Google Duo - High Quality Video Calls : 500,000,000+\n",
      "Messenger – Text and Video Chat for Free : 1,000,000,000+\n",
      "imo free video calls and chat : 500,000,000+\n",
      "Skype - free IM & video calls : 1,000,000,000+\n",
      "Who : 100,000,000+\n",
      "GO SMS Pro - Messenger, Free Themes, Emoji : 100,000,000+\n",
      "LINE: Free Calls & Messages : 500,000,000+\n",
      "Google Chrome: Fast & Secure : 1,000,000,000+\n",
      "Firefox Browser fast & private : 100,000,000+\n",
      "UC Browser - Fast Download Private & Secure : 500,000,000+\n",
      "Gmail : 1,000,000,000+\n",
      "Hangouts : 1,000,000,000+\n",
      "Messenger Lite: Free Calls & Messages : 100,000,000+\n",
      "Kik : 100,000,000+\n",
      "KakaoTalk: Free Calls & Text : 100,000,000+\n",
      "Opera Mini - fast web browser : 100,000,000+\n",
      "Opera Browser: Fast and Secure : 100,000,000+\n",
      "Telegram : 100,000,000+\n",
      "Truecaller: Caller ID, SMS spam blocking & Dialer : 100,000,000+\n",
      "UC Browser Mini -Tiny Fast Private & Secure : 100,000,000+\n",
      "Viber Messenger : 500,000,000+\n",
      "WeChat : 100,000,000+\n",
      "Yahoo Mail – Stay Organized : 100,000,000+\n",
      "BBM - Free Calls & Messages : 100,000,000+\n"
     ]
    }
   ],
   "source": [
    "for row in free_android_apps:\n",
    "    if row[1] == 'COMMUNICATION' and (row[5] =='1,000,000,000+' or\n",
    "                                      row[5] == '500,000,000+' or\n",
    "                                      row[5] == '100,000,000+'):\n",
    "        print(row[0],':',row[5])"
   ]
  },
  {
   "cell_type": "markdown",
   "metadata": {},
   "source": [
    "We can see that, most of these are already well developed. It would be thae same for other categories like video players (i.e. Youtube, Mx player, etc.). As already these niches are already well dominated and they are hard to compete against.\n",
    "\n",
    "Previously we decided we can work on weather category apps as there is scope to develop free apps. Lets see in android market, and number of installs af all the apps in this category."
   ]
  },
  {
   "cell_type": "code",
   "execution_count": 33,
   "metadata": {},
   "outputs": [
    {
     "name": "stdout",
     "output_type": "stream",
     "text": [
      "The Weather Channel: Rain Forecast & Storm Alerts : 50,000,000+\n",
      "Weather forecast : 1,000,000+\n",
      "AccuWeather: Daily Forecast & Live Weather Reports : 50,000,000+\n",
      "Live Weather Pro : 10,000+\n",
      "Weather by WeatherBug: Forecast, Radar & Alerts : 10,000,000+\n",
      "weather - weather forecast : 1,000,000+\n",
      "MyRadar NOAA Weather Radar : 10,000,000+\n",
      "SMHI Weather : 1,000,000+\n",
      "Free live weather on screen : 1,000,000+\n",
      "Weather Radar Widget : 1,000,000+\n",
      "Weather –Simple weather forecast : 10,000,000+\n",
      "Weather Crave : 5,000,000+\n",
      "Klara weather : 500,000+\n",
      "Yahoo Weather : 10,000,000+\n",
      "Real time Weather Forecast : 1,000,000+\n",
      "METEO FRANCE : 5,000,000+\n",
      "APE Weather ( Live Forecast) : 5,000,000+\n",
      "Live Weather & Daily Local Weather Forecast : 1,000,000+\n",
      "Weather : 10,000,000+\n",
      "Rainfall radar - weather : 5,000,000+\n",
      "Yahoo! Weather for SH Forecast for understanding the approach of rain clouds Free : 1,000,000+\n",
      "The Weather Network : 5,000,000+\n",
      "Klart.se - Sweden's best weather : 1,000,000+\n",
      "GO Weather - Widget, Theme, Wallpaper, Efficient : 50,000,000+\n",
      "Info BMKG : 1,000,000+\n",
      "Weather From DMI/YR : 100,000+\n",
      "wetter.com - Weather and Radar : 10,000,000+\n",
      "Storm Radar: Tornado Tracker & Hurricane Alerts : 1,000,000+\n",
      "Yandex.Weather : 10,000,000+\n",
      "Local Weather Forecast & Visual Widget : 500,000+\n",
      "Wetter by t-online.de : 1,000,000+\n",
      "HTC Weather : 10,000,000+\n",
      "AEMET's time : 1,000,000+\n",
      "New 2018 Weather App & Widget : 500,000+\n",
      "Météociel : 500,000+\n",
      "Climatempo Lite - 15 day weather forecast : 100,000+\n",
      "ForecaWeather : 1,000,000+\n",
      "HumorCast - Authentic Weather : 100,000+\n",
      "W - Weather Forecast & Animated Radar Maps : 5,000+\n",
      "Weather & Clock Widget for Android : 50,000,000+\n",
      "WeatherClear - Ad-free Weather, Minute forecast : 50,000+\n",
      "Ag Weather Tools : 500+\n",
      "Wind & Weather Meter for Ag : 1,000+\n",
      "Au Weather Free : 100,000+\n",
      "Amber Weather : 10,000,000+\n",
      "ByssWeather for Wear OS : 1,000,000+\n",
      "Sun & Moon AR Locator : 10,000+\n",
      "RadarNow! : 5,000,000+\n",
      "Skywatch BL : 1,000+\n",
      "Weather BZ : 100,000+\n",
      "Fu*** Weather (Funny Weather) : 1,000,000+\n",
      "WebCams : 100,000+\n",
      "Windguru Lite : 1,000,000+\n",
      "World Webcams : 1,000,000+\n",
      "DS Barometer - Altimeter and Weather Information : 100,000+\n",
      "DS Thermometer : 100,000+\n",
      "Météo Algérie DZ : 100,000+\n",
      "Local weather Forecast : 1,000,000+\n",
      "Weather 14 Days : 10,000,000+\n",
      "Weather by eltiempo.es : 5,000,000+\n",
      "Storm Shield : 100,000+\n",
      "GO Weather EX Theme White : 500,000+\n",
      "MIUI Style GO Weather EX : 500,000+\n",
      "Moonlight GO Weather EX : 1,000,000+\n",
      "EZ Clock & Weather Widget : 1,000,000+\n",
      "Florida Storms : 10,000+\n",
      "Clearwater, FL - weather and more : 10+\n",
      "St. Petersburg, FL - weather and more : 10+\n",
      "WSVN • South Florida's Source for Weather : 1,000+\n",
      "My Earthquake Alerts - US & Worldwide Earthquakes : 100,000+\n",
      "FR Tides : 100,000+\n"
     ]
    }
   ],
   "source": [
    "for app in free_android_apps:\n",
    "    if app[1] == 'WEATHER':\n",
    "        print(app[0], ':', app[5])"
   ]
  },
  {
   "cell_type": "markdown",
   "metadata": {},
   "source": [
    "Let's see the popular apps in the weather category."
   ]
  },
  {
   "cell_type": "code",
   "execution_count": 35,
   "metadata": {},
   "outputs": [
    {
     "name": "stdout",
     "output_type": "stream",
     "text": [
      "The Weather Channel: Rain Forecast & Storm Alerts : 50,000,000+\n",
      "Weather forecast : 1,000,000+\n",
      "AccuWeather: Daily Forecast & Live Weather Reports : 50,000,000+\n",
      "Weather by WeatherBug: Forecast, Radar & Alerts : 10,000,000+\n",
      "weather - weather forecast : 1,000,000+\n",
      "MyRadar NOAA Weather Radar : 10,000,000+\n",
      "SMHI Weather : 1,000,000+\n",
      "Free live weather on screen : 1,000,000+\n",
      "Weather Radar Widget : 1,000,000+\n",
      "Weather –Simple weather forecast : 10,000,000+\n",
      "Yahoo Weather : 10,000,000+\n",
      "Real time Weather Forecast : 1,000,000+\n",
      "Live Weather & Daily Local Weather Forecast : 1,000,000+\n",
      "Weather : 10,000,000+\n",
      "Yahoo! Weather for SH Forecast for understanding the approach of rain clouds Free : 1,000,000+\n",
      "Klart.se - Sweden's best weather : 1,000,000+\n",
      "GO Weather - Widget, Theme, Wallpaper, Efficient : 50,000,000+\n",
      "Info BMKG : 1,000,000+\n",
      "wetter.com - Weather and Radar : 10,000,000+\n",
      "Storm Radar: Tornado Tracker & Hurricane Alerts : 1,000,000+\n",
      "Yandex.Weather : 10,000,000+\n",
      "Wetter by t-online.de : 1,000,000+\n",
      "HTC Weather : 10,000,000+\n",
      "AEMET's time : 1,000,000+\n",
      "ForecaWeather : 1,000,000+\n",
      "Weather & Clock Widget for Android : 50,000,000+\n",
      "Amber Weather : 10,000,000+\n",
      "ByssWeather for Wear OS : 1,000,000+\n",
      "Fu*** Weather (Funny Weather) : 1,000,000+\n",
      "Windguru Lite : 1,000,000+\n",
      "World Webcams : 1,000,000+\n",
      "Local weather Forecast : 1,000,000+\n",
      "Weather 14 Days : 10,000,000+\n",
      "Moonlight GO Weather EX : 1,000,000+\n",
      "EZ Clock & Weather Widget : 1,000,000+\n"
     ]
    }
   ],
   "source": [
    "for row in free_android_apps:\n",
    "    if row[1] == 'WEATHER' and (row[5] == '50,000,000+' or\n",
    "                               row[5] == '10,000,000+' or\n",
    "                               row[5] == '1,000,000+'):\n",
    "        print(row[0],':',row[5])"
   ]
  },
  {
   "cell_type": "markdown",
   "metadata": {},
   "source": [
    " We can see that most of these apps are based on weather forecast and determinig the weather conditions. So, its probably not a good idea to develop similar apps. Instead we can work on apps suggesting things or to be eaten according to the weather conditions. This could be one idea to start to develop on!!\n",
    " \n",
    " \n",
    " # Conclusions\n",
    " \n",
    " In this project, analysis of data about app store and google play store has been done to reccommmend most popular category of apps to develop on at free cost.\n",
    " \n",
    "We can conclude that weather category is one particular niche which has scope to grow. The markets are full of weather forecasting but to this we can add on reccomendations based on weather conditions. The recommendations can be releated to cook stuffs, order food, etc. "
   ]
  }
 ],
 "metadata": {
  "kernelspec": {
   "display_name": "Python 3",
   "language": "python",
   "name": "python3"
  },
  "language_info": {
   "codemirror_mode": {
    "name": "ipython",
    "version": 3
   },
   "file_extension": ".py",
   "mimetype": "text/x-python",
   "name": "python",
   "nbconvert_exporter": "python",
   "pygments_lexer": "ipython3",
   "version": "3.8.5"
  }
 },
 "nbformat": 4,
 "nbformat_minor": 4
}
