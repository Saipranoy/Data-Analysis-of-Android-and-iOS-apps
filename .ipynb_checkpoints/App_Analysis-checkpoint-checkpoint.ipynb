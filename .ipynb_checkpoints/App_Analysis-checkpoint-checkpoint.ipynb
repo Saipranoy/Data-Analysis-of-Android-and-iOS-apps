{
 "cells": [
  {
   "cell_type": "markdown",
   "metadata": {},
   "source": [
    "#                   Data Analysis on Apps"
   ]
  },
  {
   "cell_type": "markdown",
   "metadata": {},
   "source": [
    "## *Problem Statement*\n",
    " \n",
    "The company gets revenue on in-app ads. So, Intially to get the revenue, there has to be users to utilize the app. This project goal is to find out what type of apps does users get attracted to? What genre of App do they like?\n",
    "\n",
    "The company concentrates on the in-app ads and not on the app developments. It's interests are on free apps that are convenient to store. \n"
   ]
  },
  {
   "cell_type": "code",
   "execution_count": 1,
   "metadata": {},
   "outputs": [
    {
     "ename": "FileNotFoundError",
     "evalue": "[Errno 2] No such file or directory: 'AppleStore.csv'",
     "output_type": "error",
     "traceback": [
      "\u001b[1;31m---------------------------------------------------------------------------\u001b[0m",
      "\u001b[1;31mFileNotFoundError\u001b[0m                         Traceback (most recent call last)",
      "\u001b[1;32m<ipython-input-1-758037a820ba>\u001b[0m in \u001b[0;36m<module>\u001b[1;34m\u001b[0m\n\u001b[0;32m      2\u001b[0m \u001b[1;33m\u001b[0m\u001b[0m\n\u001b[0;32m      3\u001b[0m \u001b[1;31m# Opening the datsets and converting to lists\u001b[0m\u001b[1;33m\u001b[0m\u001b[1;33m\u001b[0m\u001b[1;33m\u001b[0m\u001b[0m\n\u001b[1;32m----> 4\u001b[1;33m \u001b[0mios_dataset\u001b[0m \u001b[1;33m=\u001b[0m \u001b[0mlist\u001b[0m\u001b[1;33m(\u001b[0m\u001b[0mreader\u001b[0m\u001b[1;33m(\u001b[0m\u001b[0mopen\u001b[0m\u001b[1;33m(\u001b[0m\u001b[1;34m'AppleStore.csv'\u001b[0m\u001b[1;33m,\u001b[0m \u001b[0mencoding\u001b[0m \u001b[1;33m=\u001b[0m \u001b[1;34m'utf8'\u001b[0m\u001b[1;33m)\u001b[0m\u001b[1;33m)\u001b[0m\u001b[1;33m)\u001b[0m\u001b[1;33m\u001b[0m\u001b[1;33m\u001b[0m\u001b[0m\n\u001b[0m\u001b[0;32m      5\u001b[0m \u001b[0mandroid_dataset\u001b[0m \u001b[1;33m=\u001b[0m \u001b[0mlist\u001b[0m\u001b[1;33m(\u001b[0m\u001b[0mreader\u001b[0m\u001b[1;33m(\u001b[0m\u001b[0mopen\u001b[0m\u001b[1;33m(\u001b[0m\u001b[1;34m'googleplaystore.csv'\u001b[0m\u001b[1;33m,\u001b[0m \u001b[0mencoding\u001b[0m \u001b[1;33m=\u001b[0m \u001b[1;34m'utf8'\u001b[0m\u001b[1;33m)\u001b[0m\u001b[1;33m)\u001b[0m\u001b[1;33m)\u001b[0m\u001b[1;33m\u001b[0m\u001b[1;33m\u001b[0m\u001b[0m\n\u001b[0;32m      6\u001b[0m \u001b[1;33m\u001b[0m\u001b[0m\n",
      "\u001b[1;31mFileNotFoundError\u001b[0m: [Errno 2] No such file or directory: 'AppleStore.csv'"
     ]
    }
   ],
   "source": [
    "from csv import reader\n",
    "\n",
    "# Opening the datsets and converting to lists\n",
    "ios_dataset = list(reader(open('AppleStore.csv', encoding = 'utf8')))\n",
    "android_dataset = list(reader(open('googleplaystore.csv', encoding = 'utf8')))\n",
    "\n"
   ]
  },
  {
   "cell_type": "markdown",
   "metadata": {},
   "source": [
    "To explore the contents of data, we will use the **explore** function to print desired number of rows. This helps to view the data and later select the columns or rows needed for further analysis"
   ]
  },
  {
   "cell_type": "code",
   "execution_count": 2,
   "metadata": {},
   "outputs": [
    {
     "name": "stdout",
     "output_type": "stream",
     "text": [
      "Apple apps \n",
      "\n"
     ]
    },
    {
     "ename": "NameError",
     "evalue": "name 'ios_dataset' is not defined",
     "output_type": "error",
     "traceback": [
      "\u001b[1;31m---------------------------------------------------------------------------\u001b[0m",
      "\u001b[1;31mNameError\u001b[0m                                 Traceback (most recent call last)",
      "\u001b[1;32m<ipython-input-2-b2a98e505eb2>\u001b[0m in \u001b[0;36m<module>\u001b[1;34m\u001b[0m\n\u001b[0;32m     11\u001b[0m \u001b[1;33m\u001b[0m\u001b[0m\n\u001b[0;32m     12\u001b[0m \u001b[0mprint\u001b[0m\u001b[1;33m(\u001b[0m\u001b[1;34m'Apple apps \\n'\u001b[0m\u001b[1;33m)\u001b[0m\u001b[1;33m\u001b[0m\u001b[1;33m\u001b[0m\u001b[0m\n\u001b[1;32m---> 13\u001b[1;33m \u001b[0mprint\u001b[0m\u001b[1;33m(\u001b[0m\u001b[0mios_dataset\u001b[0m\u001b[1;33m[\u001b[0m\u001b[1;36m0\u001b[0m\u001b[1;33m]\u001b[0m\u001b[1;33m)\u001b[0m\u001b[1;33m\u001b[0m\u001b[1;33m\u001b[0m\u001b[0m\n\u001b[0m\u001b[0;32m     14\u001b[0m \u001b[0mprint\u001b[0m\u001b[1;33m(\u001b[0m\u001b[1;34m'\\n'\u001b[0m\u001b[1;33m)\u001b[0m\u001b[1;33m\u001b[0m\u001b[1;33m\u001b[0m\u001b[0m\n\u001b[0;32m     15\u001b[0m \u001b[0mexplore\u001b[0m\u001b[1;33m(\u001b[0m\u001b[0mios_dataset\u001b[0m\u001b[1;33m,\u001b[0m \u001b[1;36m1\u001b[0m\u001b[1;33m,\u001b[0m \u001b[1;36m3\u001b[0m\u001b[1;33m,\u001b[0m \u001b[1;32mTrue\u001b[0m\u001b[1;33m)\u001b[0m\u001b[1;33m\u001b[0m\u001b[1;33m\u001b[0m\u001b[0m\n",
      "\u001b[1;31mNameError\u001b[0m: name 'ios_dataset' is not defined"
     ]
    }
   ],
   "source": [
    "def explore(dataset, start, end, rows_columns = False):\n",
    "    dataset_slice = dataset[start:end]\n",
    "    for row in dataset_slice:\n",
    "        print(row)\n",
    "        print('\\n')\n",
    "        \n",
    "    if rows_columns:\n",
    "        print('Number of rows', len(dataset))\n",
    "        print('Number of columns', len(dataset[0]))\n",
    "        \n",
    "\n",
    "print('Apple apps \\n')\n",
    "print(ios_dataset[0])\n",
    "print('\\n')\n",
    "explore(ios_dataset, 1, 3, True)"
   ]
  },
  {
   "cell_type": "markdown",
   "metadata": {},
   "source": [
    "Total number of iOS apps are 7198. Clear understanding of column names, is given in the dataset [documnetation](https://www.kaggle.com/ramamet4/app-store-apple-data-set-10k-apps/home). The columns needed for our analysis are: \n",
    "\n",
    "- **'track_name'** - Type of App\n",
    "- **'currency'** - Type of Currency\n",
    "- **'price'** - Free or Paid app\n",
    "- **'rating_count_tot'** - User rating total counts\n",
    "- **'rating_count_ver'** - User rating for current version counts\n",
    "- **'user_rating'** - Average user rating for respective app\n",
    "\n",
    "Lets explore Google Apps"
   ]
  },
  {
   "cell_type": "code",
   "execution_count": 3,
   "metadata": {},
   "outputs": [
    {
     "name": "stdout",
     "output_type": "stream",
     "text": [
      "Google Apps \n",
      "\n",
      "['App', 'Category', 'Rating', 'Reviews', 'Size', 'Installs', 'Type', 'Price', 'Content Rating', 'Genres', 'Last Updated', 'Current Ver', 'Android Ver']\n",
      "\n",
      "\n",
      "['Photo Editor & Candy Camera & Grid & ScrapBook', 'ART_AND_DESIGN', '4.1', '159', '19M', '10,000+', 'Free', '0', 'Everyone', 'Art & Design', 'January 7, 2018', '1.0.0', '4.0.3 and up']\n",
      "\n",
      "\n",
      "['Coloring book moana', 'ART_AND_DESIGN', '3.9', '967', '14M', '500,000+', 'Free', '0', 'Everyone', 'Art & Design;Pretend Play', 'January 15, 2018', '2.0.0', '4.0.3 and up']\n",
      "\n",
      "\n",
      "Number of rows 10842\n",
      "Number of columns 13\n"
     ]
    }
   ],
   "source": [
    "print('Google Apps \\n')\n",
    "print(android_dataset[0])\n",
    "print('\\n')\n",
    "explore(android_dataset, 1, 3, True)"
   ]
  },
  {
   "cell_type": "markdown",
   "metadata": {},
   "source": [
    "Total number of android apps are 10,842. The coloumns needed for our analysis are: 'App' , 'Category' , 'Reviews', 'Installs', 'Type', 'price', 'Genres'.  "
   ]
  },
  {
   "cell_type": "markdown",
   "metadata": {},
   "source": [
    "## Deleting Wrong data\n",
    "\n",
    "We need to inspect if the data has any duplicates or wrong data before processing further. For Android apps datasets, the [discussion](https://www.kaggle.com/lava18/google-play-store-apps/discussion/163791) helps to identify the wrong data. One of the user points out that 10473 row in the data set has values shifted to left. So we can drop that particular row."
   ]
  },
  {
   "cell_type": "code",
   "execution_count": 4,
   "metadata": {},
   "outputs": [
    {
     "name": "stdout",
     "output_type": "stream",
     "text": [
      "['Life Made WI-Fi Touchscreen Photo Frame', '1.9', '19', '3.0M', '1,000+', 'Free', '0', 'Everyone', '', 'February 11, 2018', '1.0.19', '4.0 and up']\n",
      "\n",
      "\n",
      "['App', 'Category', 'Rating', 'Reviews', 'Size', 'Installs', 'Type', 'Price', 'Content Rating', 'Genres', 'Last Updated', 'Current Ver', 'Android Ver']\n",
      "\n",
      "\n"
     ]
    }
   ],
   "source": [
    "print(android_dataset[10473])\n",
    "print('\\n')\n",
    "print(android_dataset[0])\n",
    "print ('\\n')\n"
   ]
  },
  {
   "cell_type": "markdown",
   "metadata": {},
   "source": [
    "After comparing the incorrect row with header, we see that Category column is missing. So we'll delete this row!"
   ]
  },
  {
   "cell_type": "code",
   "execution_count": 5,
   "metadata": {},
   "outputs": [
    {
     "name": "stdout",
     "output_type": "stream",
     "text": [
      "10841\n"
     ]
    }
   ],
   "source": [
    "del android_dataset[10473]\n",
    "print(len(android_dataset))"
   ]
  },
  {
   "cell_type": "markdown",
   "metadata": {},
   "source": [
    "## Removing repeated data\n",
    "\n",
    "\n",
    "After removing wrong data, we need to identify duplicate rows. As app with same particular column leads to over-fitting of the data, and we dont want to analyse the data with same category of the column so,\n",
    "\n",
    "- First To Identify the duplicate rows\n",
    "- Second to identify the criteria required to select the desired row and remove the rest"
   ]
  },
  {
   "cell_type": "code",
   "execution_count": 6,
   "metadata": {},
   "outputs": [
    {
     "name": "stdout",
     "output_type": "stream",
     "text": [
      "Total no. of duplicated apps -  1181\n",
      "\n",
      "\n",
      "Examples of duplicate apps: ['Quick PDF Scanner + OCR FREE', 'Box', 'Google My Business', 'ZOOM Cloud Meetings', 'join.me - Simple Meetings', 'Box', 'Zenefits', 'Google Ads', 'Google My Business', 'Slack']\n"
     ]
    }
   ],
   "source": [
    "# Identify the duplicates\n",
    "duplicate_apps = []\n",
    "unique_apps = []\n",
    "for row in android_dataset:\n",
    "    app = row[0]\n",
    "    if app in unique_apps:\n",
    "        duplicate_apps.append(app)\n",
    "    else:\n",
    "        unique_apps.append(app)\n",
    "print('Total no. of duplicated apps - ', len(duplicate_apps))\n",
    "print('\\n')\n",
    "print('Examples of duplicate apps:', duplicate_apps[:10])"
   ]
  },
  {
   "cell_type": "code",
   "execution_count": 7,
   "metadata": {},
   "outputs": [
    {
     "name": "stdout",
     "output_type": "stream",
     "text": [
      "798\n"
     ]
    }
   ],
   "source": [
    "# frequency table of duplicated rows\n",
    "dicti_duplicate = {}\n",
    "\n",
    "for name in duplicate_apps:\n",
    "    if name in dicti_duplicate:\n",
    "        dicti_duplicate[name] += 1\n",
    "    else:\n",
    "        dicti_duplicate[name] = 1\n",
    "        \n",
    "print(len(dicti_duplicate))"
   ]
  },
  {
   "cell_type": "markdown",
   "metadata": {},
   "source": [
    "There are 798 duplicate apps. "
   ]
  },
  {
   "cell_type": "code",
   "execution_count": 8,
   "metadata": {},
   "outputs": [
    {
     "name": "stdout",
     "output_type": "stream",
     "text": [
      "['Instagram', 'SOCIAL', '4.5', '66577313', 'Varies with device', '1,000,000,000+', 'Free', '0', 'Teen', 'Social', 'July 31, 2018', 'Varies with device', 'Varies with device']\n",
      "/n\n",
      "['Instagram', 'SOCIAL', '4.5', '66577446', 'Varies with device', '1,000,000,000+', 'Free', '0', 'Teen', 'Social', 'July 31, 2018', 'Varies with device', 'Varies with device']\n",
      "/n\n",
      "['Instagram', 'SOCIAL', '4.5', '66577313', 'Varies with device', '1,000,000,000+', 'Free', '0', 'Teen', 'Social', 'July 31, 2018', 'Varies with device', 'Varies with device']\n",
      "/n\n",
      "['Instagram', 'SOCIAL', '4.5', '66509917', 'Varies with device', '1,000,000,000+', 'Free', '0', 'Teen', 'Social', 'July 31, 2018', 'Varies with device', 'Varies with device']\n",
      "/n\n"
     ]
    }
   ],
   "source": [
    "for app in android_dataset:\n",
    "    name = app[0]\n",
    "    if name == 'Instagram':\n",
    "        print(app)\n",
    "        print('/n')"
   ]
  },
  {
   "cell_type": "markdown",
   "metadata": {},
   "source": [
    "We can see that there is differencr in number of reviews i.e. 'reviews' column.So we can keep the one with highest reviews and delete the rest from dataset. As more number of reviews leads to latest user reviews.\n",
    "\n",
    "This leads to second step **Identifing the criteria**"
   ]
  },
  {
   "cell_type": "code",
   "execution_count": 13,
   "metadata": {},
   "outputs": [
    {
     "name": "stdout",
     "output_type": "stream",
     "text": [
      "Expected length: 9659\n",
      "Actual length: 9659\n"
     ]
    }
   ],
   "source": [
    "reviews_max = {}\n",
    "for row in android_dataset[1:]:\n",
    "    name = row[0]\n",
    "    n_reviews = float(row[3])\n",
    "    if name in reviews_max and reviews_max[name] < n_reviews:\n",
    "        reviews_max[name] = n_reviews\n",
    "    elif name not in reviews_max:\n",
    "        reviews_max[name] = n_reviews\n",
    "\n",
    "print('Expected length:', len(android_dataset[1:]) - 1181)\n",
    "print('Actual length:', len(reviews_max))"
   ]
  },
  {
   "cell_type": "markdown",
   "metadata": {},
   "source": [
    "Lets use the above created dictionary to remove the duplicates. After assigning the repeated app names with maximum reviews, now we need to create a new list with clean data. We can check if the data has been cleaned by comparing the length of Expected length (**'reviews_max'**) and Clean android dataset (**'android_clean'**)."
   ]
  },
  {
   "cell_type": "code",
   "execution_count": 16,
   "metadata": {},
   "outputs": [
    {
     "name": "stdout",
     "output_type": "stream",
     "text": [
      "9659\n"
     ]
    }
   ],
   "source": [
    "android_clean = [] # To store new cleaned data set\n",
    "already_android =[] # To store app_names\n",
    "for row in android_dataset[1:]:\n",
    "    name = row[0]\n",
    "    n_reviews = float(row[3])\n",
    "    if n_reviews == reviews_max[name] and name not in already_android:\n",
    "        android_clean.append(row)\n",
    "        already_android.append(name)\n",
    "\n",
    "print(len(android_clean))"
   ]
  },
  {
   "cell_type": "markdown",
   "metadata": {},
   "source": [
    "To check if ios dataset has any duplicates in it, let's create a frequency table and compare it's length with actual ios datset."
   ]
  },
  {
   "cell_type": "code",
   "execution_count": 18,
   "metadata": {},
   "outputs": [
    {
     "name": "stdout",
     "output_type": "stream",
     "text": [
      "The length of actual ios dataset 7197\n",
      "The length of frequency table of ios apps 7197\n"
     ]
    }
   ],
   "source": [
    "already_ios = {}\n",
    "for row in ios_dataset[1:]:\n",
    "    identity = row[0]\n",
    "    if identity in already_ios:\n",
    "        already_ios[identity] += 1\n",
    "    else: \n",
    "        already_ios[identity] = 1\n",
    "\n",
    "print('The length of actual ios dataset', len(ios_dataset[1:]))\n",
    "print('The length of frequency table of ios apps', len(already_ios))\n",
    "        "
   ]
  },
  {
   "cell_type": "markdown",
   "metadata": {},
   "source": [
    "From above result, we can conclude that there are no duplicates as each app has its own identity (**'id'**) number. So to check the duplicates we can check it with identity number instead of app name (**'track name'**)"
   ]
  },
  {
   "cell_type": "markdown",
   "metadata": {},
   "source": [
    "## Removing Non-English Apps\n",
    "\n",
    "To check if the app is english or non-english app, we need to check the name of app. One way is to remove each app wath a name containing a symbol that is not commonly used in english text - English text usually includes letters from the English alphabet, numbers composed of digits from 0 to 9, punctuation marks (., !, ?, ;), and other symbols (+, *, /).\n",
    "\n",
    "As each character in the text, corresponds to a number in ASCII system. The numbers corresponding to characters in an english text are in range 0 to 127. Any character with a number greater than 127 is not a english text.\n",
    "\n",
    "- First identify whether it is english or not\n",
    "- Second remove the rows corresponding to Non-English Apps\n"
   ]
  },
  {
   "cell_type": "code",
   "execution_count": 24,
   "metadata": {},
   "outputs": [
    {
     "name": "stdout",
     "output_type": "stream",
     "text": [
      "True\n",
      "False\n",
      "True\n",
      "True\n"
     ]
    }
   ],
   "source": [
    "def eng_non_eng(word): # To check if it is an engliah app or not.\n",
    "    j = 0\n",
    "    for i in word:\n",
    "        if ord(i) > 127:\n",
    "            j += 1              \n",
    "            if j > 3:        # To check if there are more than 3 characters that\n",
    "                             # don't belong to english language\n",
    "                return False\n",
    "    return True\n",
    "print(eng_non_eng('Instagram'))\n",
    "print(eng_non_eng('爱奇艺PPS -《欢乐颂2》电视剧热播'))\n",
    "print(eng_non_eng('Docs To Go™ Free Office Suite'))\n",
    "print(eng_non_eng('Instachat 😜'))"
   ]
  },
  {
   "cell_type": "markdown",
   "metadata": {},
   "source": [
    "Lets check in android datset, and seperate english_apps and non_english apps from cleaned dataset"
   ]
  },
  {
   "cell_type": "code",
   "execution_count": 28,
   "metadata": {},
   "outputs": [
    {
     "name": "stdout",
     "output_type": "stream",
     "text": [
      "The total number of english android apps 9614\n",
      "The total number of non-english android apps 45\n"
     ]
    }
   ],
   "source": [
    "english_android_dataset = []\n",
    "for row in android_clean:\n",
    "    name = row[0]\n",
    "    if eng_non_eng(name):\n",
    "        english_android_dataset.append(row)\n",
    "        \n",
    "print('The total number of english android apps',len(english_android_dataset))\n",
    "print('The total number of non-english android apps',len(android_clean)-len(english_android_dataset))\n",
    "        "
   ]
  },
  {
   "cell_type": "markdown",
   "metadata": {},
   "source": [
    "Lets check in apple apps dataset and seperate them"
   ]
  },
  {
   "cell_type": "code",
   "execution_count": 30,
   "metadata": {},
   "outputs": [
    {
     "name": "stdout",
     "output_type": "stream",
     "text": [
      "The total number of english IOs apps 6183\n",
      "The total number of non-english IOs apps 1014\n"
     ]
    }
   ],
   "source": [
    "english_apple_dataset = []\n",
    "for row in ios_dataset[1:]:\n",
    "    name = row[1]\n",
    "    if eng_non_eng(name):\n",
    "        english_apple_dataset.append(row)\n",
    "            \n",
    "print('The total number of english IOs apps', len(english_apple_dataset))\n",
    "print('The total number of non-english IOs apps', len(ios_dataset[1:])-len(english_apple_dataset))"
   ]
  },
  {
   "cell_type": "markdown",
   "metadata": {},
   "source": [
    "## Free Apps\n",
    "\n",
    "As mentioned, the company is only interested in in-app adds and only build apps that are free to download and install. As the datasets contain both free and non-free apps we need to seperate the apps\n",
    "\n",
    "- First identify the free apps\n",
    "- Second isolate the free apps\n",
    "\n",
    "Lets do in android dataset"
   ]
  },
  {
   "cell_type": "code",
   "execution_count": 32,
   "metadata": {},
   "outputs": [
    {
     "name": "stdout",
     "output_type": "stream",
     "text": [
      "The total number of free android apps 8863\n",
      "The total number of non-free apps 751\n"
     ]
    }
   ],
   "source": [
    "free_android_apps = []\n",
    "for row in english_android_dataset:\n",
    "    type_app = row[6]\n",
    "    if type_app == 'Free':\n",
    "        free_android_apps.append(row)\n",
    "\n",
    "print('The total number of free android apps', len(free_android_apps))\n",
    "print('The total number of non-free apps', len(english_android_dataset)-len(free_android_apps))\n",
    "    \n",
    "    "
   ]
  },
  {
   "cell_type": "markdown",
   "metadata": {},
   "source": [
    "Now to identify and isolate free IOs apps"
   ]
  },
  {
   "cell_type": "code",
   "execution_count": 33,
   "metadata": {},
   "outputs": [
    {
     "name": "stdout",
     "output_type": "stream",
     "text": [
      "The total number of free iOs apps 3222\n",
      "The total number non-free iOs apps 2961\n"
     ]
    }
   ],
   "source": [
    "free_apple_apps = []\n",
    "for row in english_apple_dataset:\n",
    "    price = float(row[4])\n",
    "    if price == 0.0:\n",
    "        free_apple_apps.append(row)\n",
    "        \n",
    "print('The total number of free iOs apps', len(free_apple_apps))\n",
    "print('The total number non-free iOs apps', len(english_apple_dataset)-len(free_apple_apps))"
   ]
  },
  {
   "cell_type": "markdown",
   "metadata": {},
   "source": [
    "## Common apps by Genre\n",
    "\n",
    "Till now we have cleaned the datasets. As the main aim is to determine the kind of apps that most of the users are attracted/Interested. \n",
    "\n",
    "The validation strategy of the company is compridsed of 3 steps:\n",
    "\n",
    "- Build a minimal Android version of the app and add it to Playstore.\n",
    "- If the app has a good response from users, we develop it further\n",
    "- If the app is profitable after 6 months, they build an iOS version of the app and add it to the App store\n",
    "\n",
    "So, a frequency table should be created to identfy the genre that most of the users are attracted to."
   ]
  },
  {
   "cell_type": "code",
   "execution_count": 52,
   "metadata": {},
   "outputs": [
    {
     "name": "stdout",
     "output_type": "stream",
     "text": [
      "The most common genre in android apps is Tools\n",
      "The total number of users using common genre app are 749\n"
     ]
    }
   ],
   "source": [
    "genre_android_apps = {}                # Frequency-Genre data for  android apps\n",
    "for row in free_android_apps:\n",
    "    genre = row[9]\n",
    "    if genre in genre_android_apps:\n",
    "        genre_android_apps[genre] += 1\n",
    "    else:\n",
    "        genre_android_apps[genre] = 1\n",
    "maximum = 0\n",
    "name = '' \n",
    "for i in genre_android_apps:            # To find most common genre in android apps\n",
    "    if genre_android_apps[i] > maximum:\n",
    "        maximum = genre_android_apps[i]\n",
    "        name = i\n",
    "print('The most common genre in android apps is', name)\n",
    "print('The total number of users using common genre app are',maximum)"
   ]
  },
  {
   "cell_type": "code",
   "execution_count": 54,
   "metadata": {},
   "outputs": [
    {
     "name": "stdout",
     "output_type": "stream",
     "text": [
      "The most common genre in iOS apps is Games\n",
      "The total number of users using common genre app are 1874\n"
     ]
    }
   ],
   "source": [
    "genre_apple_apps = {}\n",
    "for row in free_apple_apps:\n",
    "    genre = row[11]\n",
    "    if genre in genre_apple_apps:\n",
    "        genre_apple_apps[genre] += 1    \n",
    "    else:\n",
    "        genre_apple_apps[genre] = 1\n",
    "maximum = 0\n",
    "name = ''\n",
    "for i in genre_apple_apps:\n",
    "    if genre_apple_apps[i] > maximum:\n",
    "        maximum = genre_apple_apps[i]\n",
    "        name = i\n",
    "print('The most common genre in iOS apps is', name)\n",
    "print('The total number of users using common genre app are', maximum)"
   ]
  },
  {
   "cell_type": "markdown",
   "metadata": {},
   "source": [
    "Getting the frequency only by number doesnt give much observation points. Using percentage- frequency tables helps to understand the data better and then arranging them in descending order leads us to analyse the most uused genre in both the markets.\n",
    "\n",
    "- One function to generate frequency tables to show percentages\n",
    "- Another function to display the data in descending order according to the percentages"
   ]
  },
  {
   "cell_type": "code",
   "execution_count": 56,
   "metadata": {},
   "outputs": [],
   "source": [
    "def freq_table(dataset, index):\n",
    "    frequency_table = {}\n",
    "    total = 0\n",
    "    for row in dataset:\n",
    "        total += 1\n",
    "        genre = row[index]\n",
    "        if genre in frequency_table:\n",
    "            frequency_table[genre] += 1\n",
    "        else:\n",
    "            frequency_table[genre] = 1\n",
    "            \n",
    "    percentages = {}\n",
    "    for genre in frequency_table:\n",
    "        percentage = (frequency_table[genre]/total) * 100\n",
    "        percentages[genre] = percentage\n",
    "        \n",
    "    return percentages\n",
    "\n",
    "def display_table(dataset, index):\n",
    "    table = freq_table(dataset, index)\n",
    "    table_display = []\n",
    "    for key in table:\n",
    "        key_val_as_tuple = (table[key], key)\n",
    "        table_display.append(key_val_as_tuple)\n",
    "        \n",
    "    table_sorted = sorted(table_display, reverse = True)\n",
    "    for entry in table_sorted:\n",
    "        print(entry[1],':', entry[0])\n",
    "    "
   ]
  },
  {
   "cell_type": "code",
   "execution_count": 57,
   "metadata": {},
   "outputs": [
    {
     "name": "stdout",
     "output_type": "stream",
     "text": [
      "Games : 58.16263190564867\n",
      "Entertainment : 7.883302296710118\n",
      "Photo & Video : 4.9658597144630665\n",
      "Education : 3.662321539416512\n",
      "Social Networking : 3.2898820608317814\n",
      "Shopping : 2.60707635009311\n",
      "Utilities : 2.5139664804469275\n",
      "Sports : 2.1415270018621975\n",
      "Music : 2.0484171322160147\n",
      "Health & Fitness : 2.0173805090006205\n",
      "Productivity : 1.7380509000620732\n",
      "Lifestyle : 1.5828677839851024\n",
      "News : 1.3345747982619491\n",
      "Travel : 1.2414649286157666\n",
      "Finance : 1.1173184357541899\n",
      "Weather : 0.8690254500310366\n",
      "Food & Drink : 0.8069522036002483\n",
      "Reference : 0.5586592178770949\n",
      "Business : 0.5276225946617008\n",
      "Book : 0.4345127250155183\n",
      "Navigation : 0.186219739292365\n",
      "Medical : 0.186219739292365\n",
      "Catalogs : 0.12414649286157665\n"
     ]
    }
   ],
   "source": [
    "display_table(free_apple_apps, -5) # to display the percentage-table of iOS  "
   ]
  },
  {
   "cell_type": "markdown",
   "metadata": {},
   "source": [
    "As seen above from apple market, Games are the most common app that have 58% popularity and has you go down, we can see that fun apps are having good popularity (Games, Entertainment, Photo&Video, music and sports) where as other apps have lesser popularity irrespective of their productivity."
   ]
  },
  {
   "cell_type": "code",
   "execution_count": 58,
   "metadata": {},
   "outputs": [
    {
     "name": "stdout",
     "output_type": "stream",
     "text": [
      "Tools : 8.450863138892023\n",
      "Entertainment : 6.070179397495204\n",
      "Education : 5.348076272142616\n",
      "Business : 4.592124562789123\n",
      "Productivity : 3.8925871601038025\n",
      "Lifestyle : 3.8925871601038025\n",
      "Finance : 3.7007785174320205\n",
      "Medical : 3.5315355974275078\n",
      "Sports : 3.463838429425702\n",
      "Personalization : 3.317161232088458\n",
      "Communication : 3.2381812027530184\n",
      "Action : 3.102786866749408\n",
      "Health & Fitness : 3.0802211440821394\n",
      "Photography : 2.944826808078529\n",
      "News & Magazines : 2.798149610741284\n",
      "Social : 2.6627552747376737\n",
      "Travel & Local : 2.324269434728647\n",
      "Shopping : 2.245289405393208\n",
      "Books & Reference : 2.1437436533904997\n",
      "Simulation : 2.042197901387792\n",
      "Dating : 1.8616721200496444\n",
      "Arcade : 1.8503892587160102\n",
      "Video Players & Editors : 1.771409229380571\n",
      "Casual : 1.7601263680469368\n",
      "Maps & Navigation : 1.399074805370642\n",
      "Food & Drink : 1.241114746699763\n",
      "Puzzle : 1.128286133363421\n",
      "Racing : 0.9928917973598104\n",
      "Role Playing : 0.9364774906916393\n",
      "Libraries & Demo : 0.9364774906916393\n",
      "Auto & Vehicles : 0.9251946293580051\n",
      "Strategy : 0.9026289066907368\n",
      "House & Home : 0.8236488773552973\n",
      "Weather : 0.8010831546880289\n",
      "Events : 0.7108202640189552\n",
      "Adventure : 0.6769716800180525\n",
      "Comics : 0.6092745120162473\n",
      "Beauty : 0.5979916506826132\n",
      "Art & Design : 0.5979916506826132\n",
      "Parenting : 0.4964458986799052\n",
      "Card : 0.4513144533453684\n",
      "Casino : 0.42874873067809993\n",
      "Trivia : 0.4174658693444658\n",
      "Educational;Education : 0.3949001466771973\n",
      "Board : 0.38361728534356315\n",
      "Educational : 0.37233442400992894\n",
      "Education;Education : 0.33848584000902626\n",
      "Word : 0.25950581067358686\n",
      "Casual;Pretend Play : 0.2369400880063184\n",
      "Music : 0.20309150400541578\n",
      "Racing;Action & Adventure : 0.16924292000451313\n",
      "Puzzle;Brain Games : 0.16924292000451313\n",
      "Entertainment;Music & Video : 0.16924292000451313\n",
      "Casual;Brain Games : 0.1353943360036105\n",
      "Casual;Action & Adventure : 0.1353943360036105\n",
      "Arcade;Action & Adventure : 0.1241114746699763\n",
      "Action;Action & Adventure : 0.10154575200270789\n",
      "Educational;Pretend Play : 0.09026289066907367\n",
      "Simulation;Action & Adventure : 0.07898002933543948\n",
      "Parenting;Education : 0.07898002933543948\n",
      "Entertainment;Brain Games : 0.07898002933543948\n",
      "Board;Brain Games : 0.07898002933543948\n",
      "Parenting;Music & Video : 0.06769716800180525\n",
      "Educational;Brain Games : 0.06769716800180525\n",
      "Casual;Creativity : 0.06769716800180525\n",
      "Art & Design;Creativity : 0.06769716800180525\n",
      "Education;Pretend Play : 0.05641430666817105\n",
      "Role Playing;Pretend Play : 0.045131445334536835\n",
      "Education;Creativity : 0.045131445334536835\n",
      "Role Playing;Action & Adventure : 0.033848584000902626\n",
      "Puzzle;Action & Adventure : 0.033848584000902626\n",
      "Entertainment;Creativity : 0.033848584000902626\n",
      "Entertainment;Action & Adventure : 0.033848584000902626\n",
      "Educational;Creativity : 0.033848584000902626\n",
      "Educational;Action & Adventure : 0.033848584000902626\n",
      "Education;Music & Video : 0.033848584000902626\n",
      "Education;Brain Games : 0.033848584000902626\n",
      "Education;Action & Adventure : 0.033848584000902626\n",
      "Adventure;Action & Adventure : 0.033848584000902626\n",
      "Video Players & Editors;Music & Video : 0.022565722667268417\n",
      "Sports;Action & Adventure : 0.022565722667268417\n",
      "Simulation;Pretend Play : 0.022565722667268417\n",
      "Puzzle;Creativity : 0.022565722667268417\n",
      "Music;Music & Video : 0.022565722667268417\n",
      "Entertainment;Pretend Play : 0.022565722667268417\n",
      "Casual;Education : 0.022565722667268417\n",
      "Board;Action & Adventure : 0.022565722667268417\n",
      "Video Players & Editors;Creativity : 0.011282861333634209\n",
      "Trivia;Education : 0.011282861333634209\n",
      "Travel & Local;Action & Adventure : 0.011282861333634209\n",
      "Tools;Education : 0.011282861333634209\n",
      "Strategy;Education : 0.011282861333634209\n",
      "Strategy;Creativity : 0.011282861333634209\n",
      "Strategy;Action & Adventure : 0.011282861333634209\n",
      "Simulation;Education : 0.011282861333634209\n",
      "Role Playing;Brain Games : 0.011282861333634209\n",
      "Racing;Pretend Play : 0.011282861333634209\n",
      "Puzzle;Education : 0.011282861333634209\n",
      "Parenting;Brain Games : 0.011282861333634209\n",
      "Music & Audio;Music & Video : 0.011282861333634209\n",
      "Lifestyle;Pretend Play : 0.011282861333634209\n",
      "Lifestyle;Education : 0.011282861333634209\n",
      "Health & Fitness;Education : 0.011282861333634209\n",
      "Health & Fitness;Action & Adventure : 0.011282861333634209\n",
      "Entertainment;Education : 0.011282861333634209\n",
      "Communication;Creativity : 0.011282861333634209\n",
      "Comics;Creativity : 0.011282861333634209\n",
      "Casual;Music & Video : 0.011282861333634209\n",
      "Card;Action & Adventure : 0.011282861333634209\n",
      "Books & Reference;Education : 0.011282861333634209\n",
      "Art & Design;Pretend Play : 0.011282861333634209\n",
      "Art & Design;Action & Adventure : 0.011282861333634209\n",
      "Arcade;Pretend Play : 0.011282861333634209\n",
      "Adventure;Education : 0.011282861333634209\n"
     ]
    }
   ],
   "source": [
    "display_table(free_android_apps, 9) # percentage-table for android apps for genres"
   ]
  },
  {
   "cell_type": "markdown",
   "metadata": {},
   "source": [
    "In Google market, Tools genre is most common but it's only 8% of all apps. If you look at [tools](https://play.google.com/store/apps/collection/cluster?clp=ogoRCAESBVRPT0xTKgIIB1ICCAE%3D:S:ANO1ljJ5-OA&gsr=ChSiChEIARIFVE9PTFMqAggHUgIIAQ%3D%3D:S:ANO1ljJNkiQ) we can see that all are necessaty app for different devices and products or apps. We can see that most of the productivity apps (Education, Business, productivity, life style, finane, medical, personilisation, communication) are more in percentage when compared to fun&Entertainment apps."
   ]
  },
  {
   "cell_type": "code",
   "execution_count": 59,
   "metadata": {},
   "outputs": [
    {
     "name": "stdout",
     "output_type": "stream",
     "text": [
      "FAMILY : 18.898792733837304\n",
      "GAME : 9.725826469592688\n",
      "TOOLS : 8.462146000225657\n",
      "BUSINESS : 4.592124562789123\n",
      "LIFESTYLE : 3.9038700214374367\n",
      "PRODUCTIVITY : 3.8925871601038025\n",
      "FINANCE : 3.7007785174320205\n",
      "MEDICAL : 3.5315355974275078\n",
      "SPORTS : 3.396141261423897\n",
      "PERSONALIZATION : 3.317161232088458\n",
      "COMMUNICATION : 3.2381812027530184\n",
      "HEALTH_AND_FITNESS : 3.0802211440821394\n",
      "PHOTOGRAPHY : 2.944826808078529\n",
      "NEWS_AND_MAGAZINES : 2.798149610741284\n",
      "SOCIAL : 2.6627552747376737\n",
      "TRAVEL_AND_LOCAL : 2.335552296062281\n",
      "SHOPPING : 2.245289405393208\n",
      "BOOKS_AND_REFERENCE : 2.1437436533904997\n",
      "DATING : 1.8616721200496444\n",
      "VIDEO_PLAYERS : 1.7939749520478394\n",
      "MAPS_AND_NAVIGATION : 1.399074805370642\n",
      "FOOD_AND_DRINK : 1.241114746699763\n",
      "EDUCATION : 1.1621347173643235\n",
      "ENTERTAINMENT : 0.9590432133589079\n",
      "LIBRARIES_AND_DEMO : 0.9364774906916393\n",
      "AUTO_AND_VEHICLES : 0.9251946293580051\n",
      "HOUSE_AND_HOME : 0.8236488773552973\n",
      "WEATHER : 0.8010831546880289\n",
      "EVENTS : 0.7108202640189552\n",
      "PARENTING : 0.6544059573507841\n",
      "ART_AND_DESIGN : 0.6431230960171499\n",
      "COMICS : 0.6205573733498815\n",
      "BEAUTY : 0.5979916506826132\n"
     ]
    }
   ],
   "source": [
    "display_table(free_android_apps, 1) # Category of android apps"
   ]
  },
  {
   "cell_type": "markdown",
   "metadata": {},
   "source": [
    "Both the category and genres columns don't have much difference. The genres column has more subsections when compared to category column. To get the bigger picture, we will work on Category column"
   ]
  },
  {
   "cell_type": "markdown",
   "metadata": {},
   "source": [
    "Let's find out the kind of the apps most users use."
   ]
  },
  {
   "cell_type": "markdown",
   "metadata": {},
   "source": [
    "## Most popular apps\n",
    "\n",
    "One way to find out most popular app is to calculate the average number of installs for each genre. To do this,\n",
    "\n",
    "- Isolate the apps of each genre\n",
    "- Sum up the user ratings of each genre\n",
    "- Divide the sum by number of apps belonging to that genre"
   ]
  },
  {
   "cell_type": "code",
   "execution_count": null,
   "metadata": {},
   "outputs": [],
   "source": []
  }
 ],
 "metadata": {
  "kernelspec": {
   "display_name": "Python 3",
   "language": "python",
   "name": "python3"
  },
  "language_info": {
   "codemirror_mode": {
    "name": "ipython",
    "version": 3
   },
   "file_extension": ".py",
   "mimetype": "text/x-python",
   "name": "python",
   "nbconvert_exporter": "python",
   "pygments_lexer": "ipython3",
   "version": "3.8.5"
  }
 },
 "nbformat": 4,
 "nbformat_minor": 4
}
